{
 "cells": [
  {
   "cell_type": "code",
   "execution_count": 2,
   "id": "b878ad86",
   "metadata": {},
   "outputs": [
    {
     "name": "stdout",
     "output_type": "stream",
     "text": [
      "[1] \"hello\"\n"
     ]
    }
   ],
   "source": [
    "print(\"hello\");\n",
    "\n",
    "#<xml xmlns=\"https://developers.google.com/blockly/xml\"><block type=\"text_print\" id=\"|H!FoVD.flyu8Ek3t:@L\" x=\"62\" y=\"185\"><value name=\"TEXT\"><shadow type=\"text\" id=\"E5V{$Pt![{@]_?ze[O8-\"><field name=\"TEXT\">abc</field></shadow><block type=\"text\" id=\"S.n^MB$0kP2r(N~2b9Fe\"><field name=\"TEXT\">hello</field></block></value></block></xml>"
   ]
  },
  {
   "cell_type": "code",
   "execution_count": 7,
   "id": "07eb8d45",
   "metadata": {},
   "outputs": [],
   "source": [
    "x = \"hello\"\n",
    "\n",
    "#<xml xmlns=\"https://developers.google.com/blockly/xml\"><variables><variable id=\"~h-ua;`T@*}3ap)0^sy/\">x</variable></variables><block type=\"variables_set\" id=\"_Qcz,|/DNI2MduRQ[_gS\" x=\"22\" y=\"168\"><field name=\"VAR\" id=\"~h-ua;`T@*}3ap)0^sy/\">x</field><value name=\"VALUE\"><block type=\"text\" id=\"2-hQT]G;d3#N+;.h^-Y}\"><field name=\"TEXT\">hello</field></block></value></block></xml>"
   ]
  },
  {
   "cell_type": "code",
   "execution_count": 8,
   "id": "4a81cf19",
   "metadata": {},
   "outputs": [
    {
     "data": {
      "text/html": [
       "'hello'"
      ],
      "text/latex": [
       "'hello'"
      ],
      "text/markdown": [
       "'hello'"
      ],
      "text/plain": [
       "[1] \"hello\""
      ]
     },
     "metadata": {},
     "output_type": "display_data"
    }
   ],
   "source": [
    "x\n",
    "\n",
    "#<xml xmlns=\"https://developers.google.com/blockly/xml\"><variables><variable id=\"~h-ua;`T@*}3ap)0^sy/\">x</variable></variables><block type=\"variables_get\" id=\"skEY8uwM@7cecdDSUoB#\" x=\"8\" y=\"237\"><field name=\"VAR\" id=\"~h-ua;`T@*}3ap)0^sy/\">x</field></block></xml>"
   ]
  },
  {
   "cell_type": "code",
   "execution_count": 5,
   "id": "6b0e3d75",
   "metadata": {},
   "outputs": [],
   "source": [
    "x = \"goodbye\"\n",
    "\n",
    "#<xml xmlns=\"https://developers.google.com/blockly/xml\"><variables><variable id=\"~h-ua;`T@*}3ap)0^sy/\">x</variable></variables><block type=\"variables_set\" id=\"!#yZcI=@xDN~889x@5nF\" x=\"22\" y=\"168\"><field name=\"VAR\" id=\"~h-ua;`T@*}3ap)0^sy/\">x</field><value name=\"VALUE\"><block type=\"text\" id=\"9YLGY7IP~x!R-dHg8C0$\"><field name=\"TEXT\">goodbye</field></block></value></block></xml>"
   ]
  },
  {
   "cell_type": "code",
   "execution_count": null,
   "id": "37653ff0",
   "metadata": {},
   "outputs": [],
   "source": []
  }
 ],
 "metadata": {
  "kernelspec": {
   "display_name": "R",
   "language": "R",
   "name": "ir"
  },
  "language_info": {
   "codemirror_mode": "r",
   "file_extension": ".r",
   "mimetype": "text/x-r-source",
   "name": "R",
   "pygments_lexer": "r",
   "version": "4.2.1"
  }
 },
 "nbformat": 4,
 "nbformat_minor": 5
}
