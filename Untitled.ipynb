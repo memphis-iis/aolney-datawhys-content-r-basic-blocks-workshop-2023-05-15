{
 "cells": [
  {
   "cell_type": "code",
   "execution_count": null,
   "id": "92f9a66b",
   "metadata": {},
   "outputs": [],
   "source": [
    "print(\"hello\");\n",
    "\n",
    "#<xml xmlns=\"https://developers.google.com/blockly/xml\"><block type=\"text_print\" id=\"Q*I1K{F;;(JNs7g,9t]?\" x=\"109\" y=\"133\"><value name=\"TEXT\"><shadow type=\"text\" id=\"[j`3)MxD!-ZBdKdE/5Fl\"><field name=\"TEXT\">abc</field></shadow><block type=\"text\" id=\"U,XRl],}?D8tLICeXIz@\"><field name=\"TEXT\">hello</field></block></value></block></xml>"
   ]
  },
  {
   "cell_type": "code",
   "execution_count": 5,
   "id": "a72d3bce",
   "metadata": {},
   "outputs": [],
   "source": [
    "x = \"hello\"\n",
    "\n",
    "#<xml xmlns=\"https://developers.google.com/blockly/xml\"><variables><variable id=\"n[tTt[%[F)sl^$Q9z5f6\">x</variable></variables><block type=\"variables_set\" id=\"@YyaZM#){1Qo}`*@BSPO\" x=\"16\" y=\"54\"><field name=\"VAR\" id=\"n[tTt[%[F)sl^$Q9z5f6\">x</field><value name=\"VALUE\"><block type=\"text\" id=\"JY.aj*TPnj7ymmwO,-G5\"><field name=\"TEXT\">hello</field></block></value></block></xml>"
   ]
  },
  {
   "cell_type": "code",
   "execution_count": 6,
   "id": "167c0148",
   "metadata": {},
   "outputs": [
    {
     "data": {
      "text/html": [
       "'hello'"
      ],
      "text/latex": [
       "'hello'"
      ],
      "text/markdown": [
       "'hello'"
      ],
      "text/plain": [
       "[1] \"hello\""
      ]
     },
     "metadata": {},
     "output_type": "display_data"
    }
   ],
   "source": [
    "x\n",
    "\n",
    "#<xml xmlns=\"https://developers.google.com/blockly/xml\"><variables><variable id=\"n[tTt[%[F)sl^$Q9z5f6\">x</variable></variables><block type=\"variables_get\" id=\".^k?K20M#*Z{lT{B;GH7\" x=\"8\" y=\"236\"><field name=\"VAR\" id=\"n[tTt[%[F)sl^$Q9z5f6\">x</field></block></xml>"
   ]
  },
  {
   "cell_type": "code",
   "execution_count": 3,
   "id": "43ad69b9",
   "metadata": {},
   "outputs": [],
   "source": [
    "x = \"goodbye\"\n",
    "\n",
    "#<xml xmlns=\"https://developers.google.com/blockly/xml\"><variables><variable id=\"n[tTt[%[F)sl^$Q9z5f6\">x</variable></variables><block type=\"variables_set\" id=\"{ydHf=aD$bqKtPaCD;,%\" x=\"16\" y=\"54\"><field name=\"VAR\" id=\"n[tTt[%[F)sl^$Q9z5f6\">x</field><value name=\"VALUE\"><block type=\"text\" id=\"]T[.Q#7pw#)@^mVptbmJ\"><field name=\"TEXT\">goodbye</field></block></value></block></xml>"
   ]
  },
  {
   "cell_type": "code",
   "execution_count": null,
   "id": "d954af26",
   "metadata": {},
   "outputs": [],
   "source": []
  }
 ],
 "metadata": {
  "kernelspec": {
   "display_name": "R",
   "language": "R",
   "name": "ir"
  },
  "language_info": {
   "codemirror_mode": "r",
   "file_extension": ".r",
   "mimetype": "text/x-r-source",
   "name": "R",
   "pygments_lexer": "r",
   "version": "4.2.1"
  }
 },
 "nbformat": 4,
 "nbformat_minor": 5
}
